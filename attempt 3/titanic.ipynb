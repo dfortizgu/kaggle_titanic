{
 "cells": [
  {
   "cell_type": "code",
   "execution_count": 638,
   "metadata": {},
   "outputs": [],
   "source": [
    "import pandas as pd\n",
    "import numpy as np\n",
    "from sklearn.linear_model import LogisticRegression\n",
    "from sklearn.model_selection import GridSearchCV\n"
   ]
  },
  {
   "cell_type": "code",
   "execution_count": 639,
   "metadata": {},
   "outputs": [],
   "source": [
    "#Read the train data\n",
    "train_df = pd.read_csv(\"../data/train.csv\")\n",
    "# train_df.describe(include=\"all\")"
   ]
  },
  {
   "cell_type": "code",
   "execution_count": 640,
   "metadata": {},
   "outputs": [],
   "source": [
    "#Read the test data\n",
    "test_df = pd.read_csv(\"../data/test.csv\")\n",
    "# test_df.describe(include=\"all\")"
   ]
  },
  {
   "cell_type": "code",
   "execution_count": 641,
   "metadata": {},
   "outputs": [
    {
     "data": {
      "text/html": [
       "<div>\n",
       "<style scoped>\n",
       "    .dataframe tbody tr th:only-of-type {\n",
       "        vertical-align: middle;\n",
       "    }\n",
       "\n",
       "    .dataframe tbody tr th {\n",
       "        vertical-align: top;\n",
       "    }\n",
       "\n",
       "    .dataframe thead th {\n",
       "        text-align: right;\n",
       "    }\n",
       "</style>\n",
       "<table border=\"1\" class=\"dataframe\">\n",
       "  <thead>\n",
       "    <tr style=\"text-align: right;\">\n",
       "      <th></th>\n",
       "      <th>Sex</th>\n",
       "      <th>Age</th>\n",
       "    </tr>\n",
       "  </thead>\n",
       "  <tbody>\n",
       "    <tr>\n",
       "      <th>0</th>\n",
       "      <td>female</td>\n",
       "      <td>27.915709</td>\n",
       "    </tr>\n",
       "    <tr>\n",
       "      <th>1</th>\n",
       "      <td>male</td>\n",
       "      <td>30.726645</td>\n",
       "    </tr>\n",
       "  </tbody>\n",
       "</table>\n",
       "</div>"
      ],
      "text/plain": [
       "      Sex        Age\n",
       "0  female  27.915709\n",
       "1    male  30.726645"
      ]
     },
     "execution_count": 641,
     "metadata": {},
     "output_type": "execute_result"
    }
   ],
   "source": [
    "#For replacing the NaN Age values we will use the average Age by Sex\n",
    "\n",
    "#Getting the mean by sex an sorting the dataframe such that it is shows female in index 0 and male in index 1\n",
    "train_grp = train_df[[\"Sex\",\"Age\"]].groupby([\"Sex\"], as_index = False).mean().sort_values(by=[\"Sex\"])\n",
    "train_grp"
   ]
  },
  {
   "cell_type": "code",
   "execution_count": 642,
   "metadata": {},
   "outputs": [],
   "source": [
    "# Replacing the average values for each sex\n",
    "\n",
    "female_avg_age = train_grp.at[0,\"Age\"]\n",
    "male_avg_age = train_grp.at[1,\"Age\"]\n",
    "\n",
    "train_df.loc[((train_df[\"Sex\"] == \"male\") & (np.isnan(train_df[\"Age\"]))), \"Age\"] = male_avg_age\n",
    "train_df.loc[((train_df[\"Sex\"] == \"female\") & (np.isnan(train_df[\"Age\"]))), \"Age\"] = female_avg_age\n"
   ]
  },
  {
   "cell_type": "code",
   "execution_count": 643,
   "metadata": {},
   "outputs": [],
   "source": [
    "#Making the same age replacement for the test file\n",
    "test_grp = test_df[[\"Sex\",\"Age\"]].groupby([\"Sex\"], as_index = False).mean().sort_values(by=[\"Sex\"]).sort_values(by=[\"Sex\"])\n",
    "\n",
    "female_avg_age = test_grp.at[0,\"Age\"]\n",
    "male_avg_age = test_grp.at[1,\"Age\"]\n",
    "\n",
    "test_df.loc[((test_df[\"Sex\"] == \"male\") & (np.isnan(test_df[\"Age\"]))), \"Age\"] = male_avg_age\n",
    "test_df.loc[((test_df[\"Sex\"] == \"female\") & (np.isnan(test_df[\"Age\"]))), \"Age\"] = female_avg_age"
   ]
  },
  {
   "cell_type": "code",
   "execution_count": 644,
   "metadata": {},
   "outputs": [
    {
     "data": {
      "text/html": [
       "<div>\n",
       "<style scoped>\n",
       "    .dataframe tbody tr th:only-of-type {\n",
       "        vertical-align: middle;\n",
       "    }\n",
       "\n",
       "    .dataframe tbody tr th {\n",
       "        vertical-align: top;\n",
       "    }\n",
       "\n",
       "    .dataframe thead th {\n",
       "        text-align: right;\n",
       "    }\n",
       "</style>\n",
       "<table border=\"1\" class=\"dataframe\">\n",
       "  <thead>\n",
       "    <tr style=\"text-align: right;\">\n",
       "      <th></th>\n",
       "      <th>PassengerId</th>\n",
       "      <th>Pclass</th>\n",
       "      <th>Sex</th>\n",
       "      <th>Age</th>\n",
       "      <th>SibSp</th>\n",
       "      <th>Parch</th>\n",
       "      <th>Ticket</th>\n",
       "      <th>Fare</th>\n",
       "      <th>Embarked</th>\n",
       "    </tr>\n",
       "  </thead>\n",
       "  <tbody>\n",
       "  </tbody>\n",
       "</table>\n",
       "</div>"
      ],
      "text/plain": [
       "Empty DataFrame\n",
       "Columns: [PassengerId, Pclass, Sex, Age, SibSp, Parch, Ticket, Fare, Embarked]\n",
       "Index: []"
      ]
     },
     "execution_count": 644,
     "metadata": {},
     "output_type": "execute_result"
    }
   ],
   "source": [
    "# Cabin variable is missing more than 3/4 of total values. Cabin is dropped for the analysis for both train and test sets\n",
    "# Name is also irrelevant for the analysis, it's dropped\n",
    "\n",
    "train_df.drop(columns=[\"Cabin\", \"Name\"], inplace=True)\n",
    "test_df.drop(columns=[\"Cabin\", \"Name\"], inplace=True)\n",
    "\n",
    "test_df[test_df.isna().any(axis=1)]\n"
   ]
  },
  {
   "cell_type": "code",
   "execution_count": 645,
   "metadata": {},
   "outputs": [],
   "source": [
    "# One-hot encoding for Sex\n",
    "train_one_hot = pd.get_dummies(train_df[\"Sex\"])\n",
    "train_df.drop(columns=[\"Sex\"], inplace=True)\n",
    "train_df = train_df.join(train_one_hot)\n",
    "\n",
    "test_one_hot = pd.get_dummies(test_df[\"Sex\"])\n",
    "test_df.drop(columns=[\"Sex\"], inplace=True)\n",
    "test_df = test_df.join(test_one_hot)"
   ]
  },
  {
   "cell_type": "code",
   "execution_count": 646,
   "metadata": {},
   "outputs": [],
   "source": [
    "# We are only missing some few values in the Embarked variable for training data. We will fill it with the Embarked mode \n",
    "\n",
    "train_df[\"Embarked\"] = train_df[\"Embarked\"].fillna(train_df[\"Embarked\"].mode()[0])"
   ]
  },
  {
   "cell_type": "code",
   "execution_count": 647,
   "metadata": {},
   "outputs": [],
   "source": [
    "#One-hot encoding for the Embarked variable\n",
    "train_one_hot = pd.get_dummies(train_df[\"Embarked\"])\n",
    "train_df.drop(columns=[\"Embarked\"], inplace=True)\n",
    "train_df = train_df.join(train_one_hot)\n",
    "\n",
    "test_one_hot = pd.get_dummies(test_df[\"Embarked\"])\n",
    "test_df.drop(columns=[\"Embarked\"], inplace=True)\n",
    "test_df = test_df.join(test_one_hot)\n",
    "\n"
   ]
  },
  {
   "cell_type": "code",
   "execution_count": 648,
   "metadata": {},
   "outputs": [],
   "source": [
    "# Get only the number part of the ticket\n",
    "\n",
    "train_df[\"Ticket\"] = train_df[\"Ticket\"].apply(lambda x: x.split()[-1])\n",
    "\n",
    "#Eliminate the nly values without number \n",
    "train_df.drop(train_df[train_df[\"Ticket\"] == \"LINE\"].index , inplace=True)\n",
    "\n",
    "#Cast as int\n",
    "train_df[\"Ticket\"] = train_df[\"Ticket\"].astype(\"int\")"
   ]
  },
  {
   "cell_type": "code",
   "execution_count": 649,
   "metadata": {},
   "outputs": [],
   "source": [
    "#Repeat last change for test data\n",
    "test_df[\"Ticket\"] = test_df[\"Ticket\"].apply(lambda x: x.split()[-1])\n",
    "test_df.drop(test_df[test_df[\"Ticket\"] == \"LINE\"].index , inplace=True)\n",
    "test_df[\"Ticket\"] = test_df[\"Ticket\"].astype(\"int\")\n"
   ]
  },
  {
   "cell_type": "code",
   "execution_count": 650,
   "metadata": {},
   "outputs": [],
   "source": [
    "# Drop the PassengerId, not important for the training model\n",
    "test_data = test_df.drop(columns=[\"PassengerId\"])\n",
    "train_data = train_df.drop(columns=[\"PassengerId\"])\n"
   ]
  },
  {
   "cell_type": "code",
   "execution_count": 651,
   "metadata": {},
   "outputs": [
    {
     "data": {
      "text/plain": [
       "0.7113866967305524"
      ]
     },
     "execution_count": 651,
     "metadata": {},
     "output_type": "execute_result"
    }
   ],
   "source": [
    "#Basic Logistic Regression Model\n",
    "\n",
    "x = train_data.drop(\"Survived\", axis = 1)\n",
    "y = train_data[\"Survived\"]\n",
    "lr = LogisticRegression(tol = 0.01)\n",
    "lr.fit(x,y)\n",
    "lr.score(x,y)"
   ]
  },
  {
   "cell_type": "code",
   "execution_count": 652,
   "metadata": {},
   "outputs": [],
   "source": [
    "x_test = test_data\n",
    "y_test = lr.predict(test_data)\n",
    "test_df[\"Survived\"] = y_test"
   ]
  },
  {
   "cell_type": "code",
   "execution_count": 653,
   "metadata": {},
   "outputs": [],
   "source": [
    "result_data = test_df[[\"PassengerId\",\"Survived\"]]\n",
    "result_data.to_csv(\"result.csv\",index=False)\n"
   ]
  },
  {
   "cell_type": "code",
   "execution_count": null,
   "metadata": {},
   "outputs": [],
   "source": []
  },
  {
   "cell_type": "code",
   "execution_count": null,
   "metadata": {},
   "outputs": [],
   "source": []
  }
 ],
 "metadata": {
  "interpreter": {
   "hash": "ea8238db6dc1fe8cf6fe83219457bde9bcbcde2053d40c59d2e78211d10c5fee"
  },
  "kernelspec": {
   "display_name": "Python 3.9.7 ('base')",
   "language": "python",
   "name": "python3"
  },
  "language_info": {
   "codemirror_mode": {
    "name": "ipython",
    "version": 3
   },
   "file_extension": ".py",
   "mimetype": "text/x-python",
   "name": "python",
   "nbconvert_exporter": "python",
   "pygments_lexer": "ipython3",
   "version": "3.9.7"
  },
  "orig_nbformat": 4
 },
 "nbformat": 4,
 "nbformat_minor": 2
}
