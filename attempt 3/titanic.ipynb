{
 "cells": [
  {
   "cell_type": "code",
   "execution_count": 337,
   "metadata": {},
   "outputs": [],
   "source": [
    "import pandas as pd\n",
    "import numpy as np\n"
   ]
  },
  {
   "cell_type": "code",
   "execution_count": 338,
   "metadata": {},
   "outputs": [],
   "source": [
    "#Read the train data\n",
    "train_df = pd.read_csv(\"../data/train.csv\")\n",
    "# train_df.describe(include=\"all\")"
   ]
  },
  {
   "cell_type": "code",
   "execution_count": 339,
   "metadata": {},
   "outputs": [],
   "source": [
    "#Read the test data\n",
    "test_df = pd.read_csv(\"../data/test.csv\")\n",
    "# test_df.describe(include=\"all\")"
   ]
  },
  {
   "cell_type": "code",
   "execution_count": 340,
   "metadata": {},
   "outputs": [
    {
     "data": {
      "text/html": [
       "<div>\n",
       "<style scoped>\n",
       "    .dataframe tbody tr th:only-of-type {\n",
       "        vertical-align: middle;\n",
       "    }\n",
       "\n",
       "    .dataframe tbody tr th {\n",
       "        vertical-align: top;\n",
       "    }\n",
       "\n",
       "    .dataframe thead th {\n",
       "        text-align: right;\n",
       "    }\n",
       "</style>\n",
       "<table border=\"1\" class=\"dataframe\">\n",
       "  <thead>\n",
       "    <tr style=\"text-align: right;\">\n",
       "      <th></th>\n",
       "      <th>Sex</th>\n",
       "      <th>Age</th>\n",
       "    </tr>\n",
       "  </thead>\n",
       "  <tbody>\n",
       "    <tr>\n",
       "      <th>0</th>\n",
       "      <td>female</td>\n",
       "      <td>27.915709</td>\n",
       "    </tr>\n",
       "    <tr>\n",
       "      <th>1</th>\n",
       "      <td>male</td>\n",
       "      <td>30.726645</td>\n",
       "    </tr>\n",
       "  </tbody>\n",
       "</table>\n",
       "</div>"
      ],
      "text/plain": [
       "      Sex        Age\n",
       "0  female  27.915709\n",
       "1    male  30.726645"
      ]
     },
     "execution_count": 340,
     "metadata": {},
     "output_type": "execute_result"
    }
   ],
   "source": [
    "#For replacing the NaN Age values we will use the average Age by Sex\n",
    "\n",
    "#Getting the mean by sex an sorting the dataframe such that it is shows female in index 0 and male in index 1\n",
    "train_grp = train_df[[\"Sex\",\"Age\"]].groupby([\"Sex\"], as_index = False).mean().sort_values(by=[\"Sex\"])\n",
    "train_grp"
   ]
  },
  {
   "cell_type": "code",
   "execution_count": 341,
   "metadata": {},
   "outputs": [],
   "source": [
    "# Replacing the average values for each sex\n",
    "\n",
    "female_avg_age = train_grp.at[0,\"Age\"]\n",
    "male_avg_age = train_grp.at[1,\"Age\"]\n",
    "\n",
    "train_df.loc[((train_df[\"Sex\"] == \"male\") & (np.isnan(train_df[\"Age\"]))), \"Age\"] = male_avg_age\n",
    "train_df.loc[((train_df[\"Sex\"] == \"female\") & (np.isnan(train_df[\"Age\"]))), \"Age\"] = female_avg_age\n"
   ]
  },
  {
   "cell_type": "code",
   "execution_count": 342,
   "metadata": {},
   "outputs": [],
   "source": [
    "#Making the same age replacement for the test file\n",
    "test_grp = test_df[[\"Sex\",\"Age\"]].groupby([\"Sex\"], as_index = False).mean().sort_values(by=[\"Sex\"]).sort_values(by=[\"Sex\"])\n",
    "\n",
    "female_avg_age = test_grp.at[0,\"Age\"]\n",
    "male_avg_age = test_grp.at[1,\"Age\"]\n",
    "\n",
    "test_df.loc[((test_df[\"Sex\"] == \"male\") & (np.isnan(test_df[\"Age\"]))), \"Age\"] = male_avg_age\n",
    "test_df.loc[((test_df[\"Sex\"] == \"female\") & (np.isnan(test_df[\"Age\"]))), \"Age\"] = female_avg_age"
   ]
  },
  {
   "cell_type": "code",
   "execution_count": 343,
   "metadata": {},
   "outputs": [],
   "source": [
    "# Cabin variable is missing more than 3/4 of total values. Cabin is dropped for the analysis for both train and test sets\n",
    "# Name is also irrelevant for the analysis, it's dropped\n",
    "\n",
    "train_df.drop(columns=[\"Cabin\", \"Name\"], inplace=True)\n",
    "test_df.drop(columns=[\"Cabin\", \"Name\"], inplace=True)\n",
    "\n"
   ]
  },
  {
   "cell_type": "code",
   "execution_count": 344,
   "metadata": {},
   "outputs": [],
   "source": [
    "# One-hot encoding for Sex\n",
    "train_one_hot = pd.get_dummies(train_df[\"Sex\"])\n",
    "train_df.drop(columns=[\"Sex\"], inplace=True)\n",
    "train_df = train_df.join(train_one_hot)\n",
    "\n",
    "test_one_hot = pd.get_dummies(test_df[\"Sex\"])\n",
    "test_df.drop(columns=[\"Sex\"], inplace=True)\n",
    "test_df = test_df.join(test_one_hot)"
   ]
  },
  {
   "cell_type": "code",
   "execution_count": 345,
   "metadata": {},
   "outputs": [],
   "source": [
    "# We are only missing some few values in the Embarked variable for training data. We will fill it with the Embarked mode \n",
    "\n",
    "train_df[\"Embarked\"] = train_df[\"Embarked\"].fillna(train_df[\"Embarked\"].mode()[0])"
   ]
  },
  {
   "cell_type": "code",
   "execution_count": 346,
   "metadata": {},
   "outputs": [],
   "source": [
    "#One-hot encoding for the Embarked variable\n",
    "train_one_hot = pd.get_dummies(train_df[\"Embarked\"])\n",
    "train_df.drop(columns=[\"Embarked\"], inplace=True)\n",
    "train_df = train_df.join(train_one_hot)\n",
    "\n",
    "test_one_hot = pd.get_dummies(test_df[\"Embarked\"])\n",
    "test_df.drop(columns=[\"Embarked\"], inplace=True)\n",
    "test_df = test_df.join(test_one_hot)\n",
    "\n"
   ]
  },
  {
   "cell_type": "code",
   "execution_count": 347,
   "metadata": {},
   "outputs": [],
   "source": [
    "# Get only the number part of the ticket\n",
    "\n",
    "train_df[\"Ticket\"] = train_df[\"Ticket\"].apply(lambda x: x.split()[-1])\n",
    "\n",
    "#Eliminate the nly values without number \n",
    "train_df.drop(train_df[train_df[\"Ticket\"] == \"LINE\"].index , inplace=True)\n",
    "\n",
    "#Cast as int\n",
    "train_df[\"Ticket\"] = train_df[\"Ticket\"].astype(\"int\")"
   ]
  },
  {
   "cell_type": "code",
   "execution_count": 348,
   "metadata": {},
   "outputs": [],
   "source": [
    "#Repeat last change for test data\n",
    "test_df[\"Ticket\"] = test_df[\"Ticket\"].apply(lambda x: x.split()[-1])\n",
    "test_df.drop(test_df[test_df[\"Ticket\"] == \"LINE\"].index , inplace=True)\n",
    "test_df[\"Ticket\"] = test_df[\"Ticket\"].astype(\"int\")"
   ]
  },
  {
   "cell_type": "code",
   "execution_count": 349,
   "metadata": {},
   "outputs": [],
   "source": [
    "# Drop the PassengerId, not important for the training model\n",
    "test_data = test_df.drop(columns=[\"PassengerId\"])\n",
    "train_data = train_df.drop(columns=[\"PassengerId\"])\n",
    "\n",
    "pass"
   ]
  },
  {
   "cell_type": "code",
   "execution_count": null,
   "metadata": {},
   "outputs": [],
   "source": []
  }
 ],
 "metadata": {
  "interpreter": {
   "hash": "ea8238db6dc1fe8cf6fe83219457bde9bcbcde2053d40c59d2e78211d10c5fee"
  },
  "kernelspec": {
   "display_name": "Python 3.9.7 ('base')",
   "language": "python",
   "name": "python3"
  },
  "language_info": {
   "codemirror_mode": {
    "name": "ipython",
    "version": 3
   },
   "file_extension": ".py",
   "mimetype": "text/x-python",
   "name": "python",
   "nbconvert_exporter": "python",
   "pygments_lexer": "ipython3",
   "version": "3.9.7"
  },
  "orig_nbformat": 4
 },
 "nbformat": 4,
 "nbformat_minor": 2
}
