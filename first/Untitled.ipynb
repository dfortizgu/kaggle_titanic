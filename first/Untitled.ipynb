{
 "cells": [
  {
   "cell_type": "code",
   "execution_count": 4,
   "id": "b210f913",
   "metadata": {},
   "outputs": [
    {
     "name": "stdout",
     "output_type": "stream",
     "text": [
      "                  PassengerId;Survived;Pclass;Name;Sex;Age;SibSp;Parch;Ticket;Fare;Cabin;Embarked\n",
      "1;0;3;Braund           Mr. Owen Harris;male;22;1;0;A/5 21171;7.25;;S                             \n",
      "2;1;1;Cumings       Mrs. John Bradley (Florence Briggs Thayer);fe...                             \n",
      "3;1;3;Heikkinen     Miss. Laina;female;26;0;0;STON/O2. 3101282;7....                             \n",
      "4;1;1;Futrelle      Mrs. Jacques Heath (Lily May Peel);female;35;...                             \n",
      "5;0;3;Allen             Mr. William Henry;male;35;0;0;373450;8.05;;S                             \n",
      "...                                                              ...                             \n",
      "887;0;2;Montvila                Rev. Juozas;male;27;0;0;211536;13;;S                             \n",
      "888;1;1;Graham      Miss. Margaret Edith;female;19;0;0;112053;30;...                             \n",
      "889;0;3;\"Johnston   Miss. Catherine Helen \"\"Carrie\"\"\";female;;1;2...                             \n",
      "890;1;1;Behr            Mr. Karl Howell;male;26;0;0;111369;30;C148;C                             \n",
      "891;0;3;Dooley                Mr. Patrick;male;32;0;0;370376;7.75;;Q                             \n",
      "\n",
      "[891 rows x 1 columns]\n"
     ]
    }
   ],
   "source": [
    "import numpy as np\n",
    "import pandas as pd\n",
    "train_df = pd.read_csv (r'../data/train.csv')\n",
    "print (train_df)"
   ]
  }
 ],
 "metadata": {
  "kernelspec": {
   "display_name": "Python 3 (ipykernel)",
   "language": "python",
   "name": "python3"
  },
  "language_info": {
   "codemirror_mode": {
    "name": "ipython",
    "version": 3
   },
   "file_extension": ".py",
   "mimetype": "text/x-python",
   "name": "python",
   "nbconvert_exporter": "python",
   "pygments_lexer": "ipython3",
   "version": "3.9.7"
  }
 },
 "nbformat": 4,
 "nbformat_minor": 5
}
